{
 "cells": [
  {
   "cell_type": "code",
   "execution_count": 1,
   "metadata": {},
   "outputs": [],
   "source": [
    "import sys\n",
    "\n",
    "import torch\n",
    "from torchvision import datasets, transforms\n",
    "import torch.nn as nn\n",
    "from torch.utils.data import random_split, DataLoader\n",
    "\n",
    "from hyperopt import fmin, tpe, hp, Trials\n",
    "from hyperopt.pyll import scope\n",
    "\n",
    "sys.path.append('../src')\n",
    "sys.path.append('../configs')\n",
    "sys.path.append('../../../utils')\n",
    "from search_space import search_space\n",
    "from unet import Unet\n",
    "from train_utils import Trainer\n",
    "from eval_utils import get_pixel_accuracy, evaluate_model\n",
    "from tune_utils import get_config\n",
    "from isbi_em_dataset import ISBIEMDataset"
   ]
  },
  {
   "cell_type": "code",
   "execution_count": 2,
   "metadata": {},
   "outputs": [],
   "source": [
    "# Constants.\n",
    "split_ratio = 0.8 # train / valid"
   ]
  },
  {
   "cell_type": "code",
   "execution_count": 3,
   "metadata": {},
   "outputs": [],
   "source": [
    "transform = transforms.Compose([\n",
    "    transforms.ToTensor()\n",
    "])\n",
    "DATA_DIR = '/home/kramasamy/Code/projects/cnn/data/isbi_em_segmentation'\n",
    "train_dataset = ISBIEMDataset(DATA_DIR, transform=transform, train=False)\n",
    "\n",
    "total_size = len(train_dataset)\n",
    "train_size = int(total_size * split_ratio)\n",
    "valid_size = total_size - train_size\n",
    "\n",
    "train_dataset, valid_dataset = random_split(train_dataset, \n",
    "                                            [train_size, valid_size])\n"
   ]
  },
  {
   "cell_type": "code",
   "execution_count": 4,
   "metadata": {},
   "outputs": [],
   "source": [
    "def objective_function(params):\n",
    "    torch.cuda.empty_cache()\n",
    "    model = Unet()\n",
    "    config = get_config(params)\n",
    "    trainer = Trainer(model, train_dataset, config)\n",
    "    result = trainer.train(progress_bar=False)\n",
    "    valid_loader = DataLoader(dataset=train_dataset, batch_size=2, \n",
    "                              shuffle=False)\n",
    "    torch.cuda.empty_cache()\n",
    "    y_pred, y_true = evaluate_model(result['model'], valid_loader, 'cuda')\n",
    "    return -1 * get_pixel_accuracy(y_pred, y_true)"
   ]
  },
  {
   "cell_type": "code",
   "execution_count": 5,
   "metadata": {},
   "outputs": [
    {
     "name": "stdout",
     "output_type": "stream",
     "text": [
      "100%|██████████| 25/25 [1:08:40<00:00, 164.84s/trial, best loss: -78.55237579345703]\n"
     ]
    }
   ],
   "source": [
    "trials = Trials()\n",
    "\n",
    "best_params = fmin(\n",
    "    fn = objective_function,\n",
    "    space = search_space,\n",
    "    algo = tpe.suggest,\n",
    "    max_evals = 25,\n",
    "    trials = trials\n",
    ")"
   ]
  },
  {
   "cell_type": "code",
   "execution_count": 6,
   "metadata": {},
   "outputs": [
    {
     "name": "stdout",
     "output_type": "stream",
     "text": [
      "{'adam_beta1': np.float64(0.9076454389299679), 'adam_beta2': np.float64(0.9983641710260994), 'adam_lr': np.float64(0.0006976320483029133), 'adam_weight_decay': np.float64(0.008140957129697157), 'batch_size': np.int64(0), 'epochs': np.int64(0), 'optimizer': np.int64(1)}\n"
     ]
    }
   ],
   "source": [
    "print(best_params)"
   ]
  }
 ],
 "metadata": {
  "kernelspec": {
   "display_name": "globalenv",
   "language": "python",
   "name": "python3"
  },
  "language_info": {
   "codemirror_mode": {
    "name": "ipython",
    "version": 3
   },
   "file_extension": ".py",
   "mimetype": "text/x-python",
   "name": "python",
   "nbconvert_exporter": "python",
   "pygments_lexer": "ipython3",
   "version": "3.10.12"
  }
 },
 "nbformat": 4,
 "nbformat_minor": 2
}
