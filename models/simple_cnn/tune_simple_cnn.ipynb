{
 "cells": [
  {
   "cell_type": "code",
   "execution_count": null,
   "metadata": {},
   "outputs": [],
   "source": [
    "import sys\n",
    "\n",
    "from torchvision import datasets, transforms\n",
    "from torch.utils.data import random_split, DataLoader\n",
    "\n",
    "from hyperopt import fmin, tpe, hp, Trials\n",
    "from hyperopt.pyll import scope\n",
    "\n",
    "from simple_cnn import SimpleCnn\n",
    "sys.path.append('../../utils')\n",
    "from train_utils import Trainer"
   ]
  },
  {
   "cell_type": "code",
   "execution_count": 2,
   "metadata": {},
   "outputs": [],
   "source": [
    "# Load model.\n",
    "model = SimpleCnn()"
   ]
  },
  {
   "cell_type": "code",
   "execution_count": 3,
   "metadata": {},
   "outputs": [],
   "source": [
    "train_dataset = datasets.FashionMNIST(root='../../data/fashion_mnist',\n",
    "                                train=True,\n",
    "                                transform=transforms.ToTensor(),\n",
    "                                download=True)\n",
    "\n",
    "train_frac = 0.8\n",
    "\n",
    "train_size = int(train_frac * len(train_dataset))\n",
    "valid_size = len(train_dataset) - train_size\n",
    "\n",
    "train_dataset, valid_dataset = random_split(\n",
    "        train_dataset, [train_size, valid_size])\n"
   ]
  },
  {
   "cell_type": "code",
   "execution_count": 4,
   "metadata": {},
   "outputs": [],
   "source": [
    "def find_suffix(s, t):\n",
    "    if not t.startswith(s):\n",
    "        return t\n",
    "    return t[len(s)+1:]\n",
    "\n",
    "\n",
    "def get_config(params):\n",
    "    raw_config = params\n",
    "    name = params['optimizer']['name']\n",
    "    if name == 'adam':\n",
    "        beta1 = raw_config['optimizer']['adam_beta1']\n",
    "        beta2 = raw_config['optimizer']['adam_beta2']\n",
    "        del raw_config['optimizer']['beta1']\n",
    "        del raw_config['optimizer']['beta2']\n",
    "        raw_config['optimize']['betas'] = (beta1, beta2)\n",
    "    raw_config['device'] = 'cpu'\n",
    "\n",
    "    config = {}\n",
    "\n",
    "    for key, value in raw_config.items():\n",
    "        new_key = find_suffix(name, key)\n",
    "        config[new_key] = value\n",
    "\n",
    "    return config\n",
    "\n",
    "\n",
    "def objective_function(params):\n",
    "    config = get_config(params)\n",
    "    print(config)\n",
    "    # config = {\n",
    "    #     'optimizer': get_optimizer_config(params),\n",
    "    #     'loss_fn' : 'ce_loss',\n",
    "    #     'batch_size' : 128,\n",
    "    #     'epochs' : 5,\n",
    "    #     'device' : 'cpu'\n",
    "    # }\n",
    "    trainer = Trainer(model, train_dataset, config)\n",
    "    result = trainer.train()\n",
    "    return result['loss_history'][-1]"
   ]
  },
  {
   "cell_type": "code",
   "execution_count": 5,
   "metadata": {},
   "outputs": [],
   "source": [
    "search_space = {\n",
    "    'optimizer': hp.choice('optimizer', [\n",
    "        {\n",
    "            'name' : 'sgd',\n",
    "            'params' : {\n",
    "                'momentum' : hp.uniform('sgd_momentum', 0.001, 0.01),\n",
    "                'lr': hp.uniform('sgd_lr', 0.001, 0.1),\n",
    "                'weight_decay': hp.uniform('sgd_weight_decay', 0.5, 0.99)\n",
    "            }\n",
    "        },\n",
    "        {\n",
    "            'name' : 'adam',\n",
    "            'params' : {\n",
    "                'lr': hp.uniform('adam_lr', 0.001, 0.1),\n",
    "                'weight_decay': hp.uniform('adam_weight_decay', 0.5, 0.99),\n",
    "                'beta1' : hp.uniform('adam_beta1', 0.9, 0.99),\n",
    "                'beta2' : hp.uniform('adam_beta2', 0.99, 0.999)\n",
    "            }\n",
    "        },\n",
    "        {\n",
    "            'name' : 'rmsprop',\n",
    "            'params' : {\n",
    "                'lr': hp.uniform('rmsprop_lr', 0.001, 0.1),\n",
    "                'weight_decay': hp.uniform('rmsprop_weight_decay', 0.5, 0.99),\n",
    "                'momentum' : hp.uniform('rmsprop_momentum', 0.001, 0.01),\n",
    "                'alpha' : hp.uniform('rmsprop_alpha', 0.9, 0.99)\n",
    "            }\n",
    "        }\n",
    "    ]),  \n",
    "    'loss_fn' : 'ce_loss',\n",
    "    'batch_size' : hp.choice('batch_size', [16, 32, 64, 128]),\n",
    "    'epochs' : hp.choice('epochs', [5])\n",
    "}"
   ]
  },
  {
   "cell_type": "code",
   "execution_count": 6,
   "metadata": {},
   "outputs": [
    {
     "name": "stdout",
     "output_type": "stream",
     "text": [
      "{'batch_size': 64, 'epochs': 5, 'loss_fn': 'ce_loss', 'optimizer': {'name': 'rmsprop', 'params': {'alpha': 0.9644328599384232, 'lr': 0.04573058188168829, 'momentum': 0.0040741029581688164, 'weight_decay': 0.7689033224225683}}, 'device': 'cpu'}\n",
      "  0%|          | 0/1 [00:00<?, ?trial/s, best loss=?]"
     ]
    },
    {
     "name": "stderr",
     "output_type": "stream",
     "text": [
      "  0%|          | 0/5 [00:00<?, ?it/s]\n",
      " 20%|##        | 1/5 [00:09<00:38,  9.60s/it]\n",
      " 40%|####      | 2/5 [00:19<00:28,  9.63s/it]\n",
      " 60%|######    | 3/5 [00:27<00:18,  9.19s/it]\n",
      " 80%|########  | 4/5 [00:37<00:09,  9.18s/it]\n",
      "100%|##########| 5/5 [00:47<00:00,  9.69s/it]\n",
      "100%|##########| 5/5 [00:47<00:00,  9.53s/it]\n"
     ]
    },
    {
     "name": "stdout",
     "output_type": "stream",
     "text": [
      "100%|██████████| 1/1 [00:47<00:00, 47.68s/trial, best loss: 2.3106859623591105]\n"
     ]
    }
   ],
   "source": [
    "trials = Trials()\n",
    "\n",
    "best_params = fmin(\n",
    "    fn = objective_function,\n",
    "    space = search_space,\n",
    "    algo = tpe.suggest,\n",
    "    max_evals = 1,\n",
    "    trials = trials\n",
    ")"
   ]
  },
  {
   "cell_type": "code",
   "execution_count": 7,
   "metadata": {},
   "outputs": [
    {
     "name": "stdout",
     "output_type": "stream",
     "text": [
      "{'batch_size': np.int64(2), 'epochs': np.int64(0), 'optimizer': np.int64(2), 'rmsprop_alpha': np.float64(0.9644328599384232), 'rmsprop_lr': np.float64(0.04573058188168829), 'rmsprop_momentum': np.float64(0.0040741029581688164), 'rmsprop_weight_decay': np.float64(0.7689033224225683)}\n"
     ]
    }
   ],
   "source": [
    "print(best_params)"
   ]
  }
 ],
 "metadata": {
  "kernelspec": {
   "display_name": "globalenv",
   "language": "python",
   "name": "python3"
  },
  "language_info": {
   "codemirror_mode": {
    "name": "ipython",
    "version": 3
   },
   "file_extension": ".py",
   "mimetype": "text/x-python",
   "name": "python",
   "nbconvert_exporter": "python",
   "pygments_lexer": "ipython3",
   "version": "3.10.12"
  }
 },
 "nbformat": 4,
 "nbformat_minor": 2
}
