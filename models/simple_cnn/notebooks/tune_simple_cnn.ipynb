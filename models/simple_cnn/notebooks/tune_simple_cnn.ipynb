{
 "cells": [
  {
   "cell_type": "code",
   "execution_count": 1,
   "metadata": {},
   "outputs": [],
   "source": [
    "import sys\n",
    "\n",
    "from torchvision import datasets, transforms\n",
    "import torch.nn as nn\n",
    "from torch.utils.data import random_split, DataLoader\n",
    "\n",
    "from hyperopt import fmin, tpe, hp, Trials\n",
    "from hyperopt.pyll import scope\n",
    "\n",
    "sys.path.append('../src')\n",
    "sys.path.append('../configs')\n",
    "sys.path.append('../../../utils')\n",
    "from search_space import search_space\n",
    "from simple_cnn import SimpleCnn\n",
    "from train_utils import Trainer\n",
    "from eval_utils import get_top_k_accuracy, evaluate_model\n",
    "from tune_utils import get_config"
   ]
  },
  {
   "cell_type": "code",
   "execution_count": 2,
   "metadata": {},
   "outputs": [],
   "source": [
    "# Constants.\n",
    "split_ratio = 0.8 # train / valid"
   ]
  },
  {
   "cell_type": "code",
   "execution_count": 3,
   "metadata": {},
   "outputs": [],
   "source": [
    "train_dataset = datasets.FashionMNIST(root='../../../data/fashion_mnist',\n",
    "                                train=True,\n",
    "                                transform=transforms.ToTensor(),\n",
    "                                download=True)\n",
    "\n",
    "total_size = len(train_dataset)\n",
    "train_size = int(total_size * split_ratio)\n",
    "valid_size = total_size - train_size\n",
    "\n",
    "train_dataset, valid_dataset = random_split(train_dataset, \n",
    "                                            [train_size, valid_size])\n"
   ]
  },
  {
   "cell_type": "code",
   "execution_count": 4,
   "metadata": {},
   "outputs": [],
   "source": [
    "def objective_function(params):\n",
    "    model = SimpleCnn()\n",
    "    config = get_config(params)\n",
    "    trainer = Trainer(model, train_dataset, config)\n",
    "    result = trainer.train(progress_bar=False)\n",
    "    valid_loader = DataLoader(dataset=train_dataset, batch_size=128, \n",
    "                              shuffle=False)\n",
    "    y_pred, y_true = evaluate_model(result['model'], valid_loader, 'cuda')\n",
    "    return -1 * get_top_k_accuracy(y_pred, y_true, 1)"
   ]
  },
  {
   "cell_type": "code",
   "execution_count": 5,
   "metadata": {},
   "outputs": [
    {
     "name": "stdout",
     "output_type": "stream",
     "text": [
      "100%|██████████| 50/50 [33:25<00:00, 40.11s/trial, best loss: -89.66458439826965]\n"
     ]
    }
   ],
   "source": [
    "trials = Trials()\n",
    "\n",
    "best_params = fmin(\n",
    "    fn = objective_function,\n",
    "    space = search_space,\n",
    "    algo = tpe.suggest,\n",
    "    max_evals = 50,\n",
    "    trials = trials\n",
    ")"
   ]
  },
  {
   "cell_type": "code",
   "execution_count": 6,
   "metadata": {},
   "outputs": [
    {
     "name": "stdout",
     "output_type": "stream",
     "text": [
      "{'batch_size': np.int64(0), 'epochs': np.int64(0), 'optimizer': np.int64(0), 'sgd_lr': np.float64(0.029123301944155112), 'sgd_momentum': np.float64(0.008783493098776584), 'sgd_weight_decay': np.float64(0.000145258506943626)}\n"
     ]
    }
   ],
   "source": [
    "print(best_params)"
   ]
  }
 ],
 "metadata": {
  "kernelspec": {
   "display_name": "globalenv",
   "language": "python",
   "name": "python3"
  },
  "language_info": {
   "codemirror_mode": {
    "name": "ipython",
    "version": 3
   },
   "file_extension": ".py",
   "mimetype": "text/x-python",
   "name": "python",
   "nbconvert_exporter": "python",
   "pygments_lexer": "ipython3",
   "version": "3.10.12"
  }
 },
 "nbformat": 4,
 "nbformat_minor": 2
}
