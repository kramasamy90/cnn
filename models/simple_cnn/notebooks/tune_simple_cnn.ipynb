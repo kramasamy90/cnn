{
 "cells": [
  {
   "cell_type": "code",
   "execution_count": 1,
   "metadata": {},
   "outputs": [],
   "source": [
    "import sys\n",
    "\n",
    "from torchvision import datasets, transforms\n",
    "from torch.utils.data import random_split, DataLoader\n",
    "\n",
    "from hyperopt import fmin, tpe, hp, Trials\n",
    "from hyperopt.pyll import scope\n",
    "\n",
    "sys.path.append('../src')\n",
    "sys.path.append('../configs')\n",
    "sys.path.append('../../../utils')\n",
    "from search_space import search_space\n",
    "from simple_cnn import SimpleCnn\n",
    "from train_utils import Trainer\n",
    "from tune_utils import get_config"
   ]
  },
  {
   "cell_type": "code",
   "execution_count": 2,
   "metadata": {},
   "outputs": [],
   "source": [
    "# Load model.\n",
    "model = SimpleCnn()"
   ]
  },
  {
   "cell_type": "code",
   "execution_count": 3,
   "metadata": {},
   "outputs": [],
   "source": [
    "train_dataset = datasets.FashionMNIST(root='../../../data/fashion_mnist',\n",
    "                                train=True,\n",
    "                                transform=transforms.ToTensor(),\n",
    "                                download=True)\n",
    "\n",
    "train_frac = 0.8\n",
    "\n",
    "train_size = int(train_frac * len(train_dataset))\n",
    "valid_size = len(train_dataset) - train_size\n",
    "\n",
    "train_dataset, valid_dataset = random_split(\n",
    "        train_dataset, [train_size, valid_size])\n"
   ]
  },
  {
   "cell_type": "code",
   "execution_count": 4,
   "metadata": {},
   "outputs": [],
   "source": [
    "def objective_function(params):\n",
    "    config = get_config(params)\n",
    "    print(config)\n",
    "    # config = {\n",
    "    #     'optimizer': get_optimizer_config(params),\n",
    "    #     'loss_fn' : 'ce_loss',\n",
    "    #     'batch_size' : 128,\n",
    "    #     'epochs' : 5,\n",
    "    #     'device' : 'cpu'\n",
    "    # }\n",
    "    trainer = Trainer(model, train_dataset, config)\n",
    "    result = trainer.train()\n",
    "    return result['loss_history'][-1]"
   ]
  },
  {
   "cell_type": "code",
   "execution_count": 5,
   "metadata": {},
   "outputs": [
    {
     "name": "stdout",
     "output_type": "stream",
     "text": [
      "{'batch_size': 16, 'epochs': 5, 'loss_fn': 'ce_loss', 'optimizer': {'name': 'sgd', 'params': {'lr': 0.017125936022545085, 'momentum': 0.00928849323986532, 'weight_decay': 0.5068976757981482}}, 'device': 'cpu'}\n",
      "  0%|          | 0/1 [00:00<?, ?trial/s, best loss=?]"
     ]
    },
    {
     "name": "stderr",
     "output_type": "stream",
     "text": [
      "  0%|          | 0/5 [00:00<?, ?it/s]\n",
      " 20%|##        | 1/5 [00:13<00:52, 13.03s/it]\n",
      " 40%|####      | 2/5 [00:28<00:43, 14.53s/it]\n",
      " 60%|######    | 3/5 [00:42<00:28, 14.11s/it]\n",
      " 80%|########  | 4/5 [01:08<00:18, 18.80s/it]\n",
      "100%|##########| 5/5 [01:34<00:00, 21.59s/it]\n",
      "100%|##########| 5/5 [01:34<00:00, 18.95s/it]\n"
     ]
    },
    {
     "name": "stdout",
     "output_type": "stream",
     "text": [
      "100%|██████████| 1/1 [01:34<00:00, 94.76s/trial, best loss: 2.3026270888646443]\n"
     ]
    }
   ],
   "source": [
    "trials = Trials()\n",
    "\n",
    "best_params = fmin(\n",
    "    fn = objective_function,\n",
    "    space = search_space,\n",
    "    algo = tpe.suggest,\n",
    "    max_evals = 1,\n",
    "    trials = trials\n",
    ")"
   ]
  },
  {
   "cell_type": "code",
   "execution_count": 6,
   "metadata": {},
   "outputs": [
    {
     "name": "stdout",
     "output_type": "stream",
     "text": [
      "{'batch_size': np.int64(0), 'epochs': np.int64(0), 'optimizer': np.int64(0), 'sgd_lr': np.float64(0.017125936022545085), 'sgd_momentum': np.float64(0.00928849323986532), 'sgd_weight_decay': np.float64(0.5068976757981482)}\n"
     ]
    }
   ],
   "source": [
    "print(best_params)"
   ]
  }
 ],
 "metadata": {
  "kernelspec": {
   "display_name": "globalenv",
   "language": "python",
   "name": "python3"
  },
  "language_info": {
   "codemirror_mode": {
    "name": "ipython",
    "version": 3
   },
   "file_extension": ".py",
   "mimetype": "text/x-python",
   "name": "python",
   "nbconvert_exporter": "python",
   "pygments_lexer": "ipython3",
   "version": "3.10.12"
  }
 },
 "nbformat": 4,
 "nbformat_minor": 2
}
