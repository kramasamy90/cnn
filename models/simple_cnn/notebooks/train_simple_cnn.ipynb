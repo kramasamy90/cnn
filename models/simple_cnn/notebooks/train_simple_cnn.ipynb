{
 "cells": [
  {
   "cell_type": "code",
   "execution_count": 1,
   "metadata": {},
   "outputs": [],
   "source": [
    "import sys\n",
    "import yaml\n",
    "\n",
    "from torch.utils.data import DataLoader\n",
    "from torchvision import datasets, transforms\n",
    "\n",
    "sys.path.append('../src')\n",
    "sys.path.append('../../../utils')\n",
    "from simple_cnn import SimpleCnn\n",
    "from train_utils import Trainer\n",
    "from eval_utils import get_top_k_accuracy, evaluate_model"
   ]
  },
  {
   "cell_type": "code",
   "execution_count": 2,
   "metadata": {},
   "outputs": [
    {
     "name": "stderr",
     "output_type": "stream",
     "text": [
      "100%|██████████| 50/50 [09:14<00:00, 11.09s/it]\n"
     ]
    }
   ],
   "source": [
    "\n",
    "with open('../configs/train_config.yaml', 'r') as f:\n",
    "    config = yaml.load(f, Loader=yaml.FullLoader)\n",
    "\n",
    "# Load dataset.\n",
    "\n",
    "transform = transforms.Compose([\n",
    "    transforms.ToTensor(),\n",
    "    transforms.Normalize(0.5, 0.25)\n",
    "])\n",
    "\n",
    "train_dataset = datasets.FashionMNIST(root='../../../data/fashion_mnist',\n",
    "                                train=True,\n",
    "                                transform=transform,\n",
    "                                download=True)\n",
    "\n",
    "test_dataset = datasets.FashionMNIST(root='../../../data/fashion_mnist',\n",
    "                                train=False,\n",
    "                                transform=transform,\n",
    "                                download=True)\n",
    "\n",
    "# Load model.\n",
    "model = SimpleCnn()\n",
    "trainer = Trainer(model, train_dataset, config)\n",
    "result = trainer.train()"
   ]
  },
  {
   "cell_type": "code",
   "execution_count": 3,
   "metadata": {},
   "outputs": [
    {
     "data": {
      "text/plain": [
       "[<matplotlib.lines.Line2D at 0x762f1fd24bb0>]"
      ]
     },
     "execution_count": 3,
     "metadata": {},
     "output_type": "execute_result"
    },
    {
     "data": {
      "image/png": "[encoded data removed]",
      "text/plain": [
       "<Figure size 640x480 with 1 Axes>"
      ]
     },
     "metadata": {},
     "output_type": "display_data"
    }
   ],
   "source": [
    "import matplotlib.pyplot as plt\n",
    "\n",
    "plt.plot(result['loss_history'])"
   ]
  },
  {
   "cell_type": "code",
   "execution_count": 4,
   "metadata": {},
   "outputs": [],
   "source": [
    "train_loader = DataLoader(dataset=train_dataset, batch_size=64, shuffle=False)\n",
    "test_loader = DataLoader(dataset=test_dataset, batch_size=64, shuffle=False)\n",
    "y_pred_train, y_true_train = evaluate_model(model, train_loader)\n",
    "y_pred_test, y_true_test = evaluate_model(model, test_loader)"
   ]
  },
  {
   "cell_type": "code",
   "execution_count": 5,
   "metadata": {},
   "outputs": [
    {
     "name": "stdout",
     "output_type": "stream",
     "text": [
      "91.09833240509033\n",
      "88.95999789237976\n",
      "98.12333583831787\n",
      "97.22999930381775\n"
     ]
    }
   ],
   "source": [
    "print(get_top_k_accuracy(y_pred_train, y_true_train, 1))\n",
    "print(get_top_k_accuracy(y_pred_test, y_true_test, 1))\n",
    "print(get_top_k_accuracy(y_pred_train, y_true_train, 2))\n",
    "print(get_top_k_accuracy(y_pred_test, y_true_test, 2))"
   ]
  }
 ],
 "metadata": {
  "kernelspec": {
   "display_name": "globalenv",
   "language": "python",
   "name": "python3"
  },
  "language_info": {
   "codemirror_mode": {
    "name": "ipython",
    "version": 3
   },
   "file_extension": ".py",
   "mimetype": "text/x-python",
   "name": "python",
   "nbconvert_exporter": "python",
   "pygments_lexer": "ipython3",
   "version": "3.10.12"
  }
 },
 "nbformat": 4,
 "nbformat_minor": 2
}
